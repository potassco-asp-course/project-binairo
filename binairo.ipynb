{
 "cells": [
  {
   "cell_type": "markdown",
   "metadata": {},
   "source": [
    "# Problem Description.\n",
    "\n",
    "The task of this project is to solve the binairo puzzle in ASP.\n",
    "The goal is to fill the board with 0s and 1s that satisfy all of the rules.\n",
    "\n",
    "The following image represents one problem instance. Some cells are pre-filled, and these values cannot change.\n",
    "\n",
    "<img width=400 height=400 src=img/instance01.png/>\n",
    "\n",
    "## Rules\n",
    "* Each cell must be assigned a number 0 or 1\n",
    "* Three consecutive cells (horizontally or vertically) must not contain the same number\n",
    "* If an `=` is shown between two cells, those two cells must have the same number\n",
    "* If an `x` is shown between two cells, those two cells must have the different numbers\n",
    "* Each row must have the same number of 0s as 1s\n",
    "* Each column must have the same number of 0s as 1s\n",
    "\n",
    "Below is the solution to the given example:\n",
    "\n",
    "<img width=400 height=400 src=img/solution01.png/>\n",
    "\n",
    "You can [play online](https://www.puzzle-binairo.com/binairo-plus-6x6-easy/) before writing your code to become familiar with the game.\n",
    "\n",
    "---"
   ]
  },
  {
   "cell_type": "markdown",
   "metadata": {},
   "source": [
    "# Representation in ASP.\n",
    "\n",
    "An instance of the problem is represented by facts of the following predicates:\n",
    "```\n",
    "  grid(G).                 % we are given a grid of size G x G\n",
    "  filled(X,Y,V).           % a value V is given at cell (X,Y)\n",
    "  same((X1,Y1),(X2,Y2)).   % an = is given between cells (X1,Y1) and (X2,Y2)\n",
    "  diff((X1,Y1),(X2,Y2)).   % an x is given between cells (X1,Y1) and (X2,Y2)\n",
    "  select(X,Y,V).           % a value V is selected for cell (X,Y)\n",
    "\n",
    "```\n",
    "\n",
    "All arguments are integers greater or equal to `0`. \n",
    "In particularthe days `D` and the slots `S` range from `1` to some positive integer. \n",
    "\n",
    "\n",
    "The example shown before is represented by the following facts:\n",
    "```\n",
    "% puzzle: 2,615,130\n",
    "\n",
    "grid(6).\n",
    "\n",
    "filled(2,2,0).\n",
    "filled(5,2,0).\n",
    "filled(1,3,0).\n",
    "filled(2,3,1).\n",
    "filled(5,3,1).\n",
    "filled(6,3,0).\n",
    "filled(2,4,0).\n",
    "filled(5,4,1).\n",
    "\n",
    "same((2,1),(3,1)).\n",
    "same((4,1),(5,1)).\n",
    "same((3,1),(3,2)).\n",
    "same((4,1),(4,2)).\n",
    "same((2,6),(3,6)).\n",
    "same((4,6),(5,6)).\n",
    "\n",
    "diff((2,5),(2,6)).\n",
    "diff((3,5),(3,6)).\n",
    "diff((4,5),(4,6)).\n",
    "diff((5,5),(5,6)).\n",
    "```\n",
    "\n",
    "A solution is a set of selected values represented by atoms of the predicate `select/3`:\n",
    "```\n",
    "  select(X,Y,V).   % there a cell at location (X,Y),\n",
    "                   % assigned the value V (0 or 1)\n",
    "```\n",
    "\n",
    "\n",
    "For instance, the solution of the example consists of the following atoms:\n",
    "```\n",
    "select(1,1,0)   select(2,1,1)   select(3,1,1)\n",
    "select(1,2,1)   select(2,2,0)   select(3,2,1)\n",
    "select(1,3,0)   select(2,3,1)   select(3,3,0)\n",
    "select(1,4,1)   select(2,4,0)   select(3,4,0)\n",
    "select(1,5,0)   select(2,5,1)   select(3,5,1)\n",
    "select(1,6,1)   select(2,6,0)   select(3,6,0)\n",
    "\n",
    "select(4,1,0)   select(5,1,0)   select(6,1,1)\n",
    "select(4,2,0)   select(5,2,0)   select(6,2,1)\n",
    "select(4,3,1)   select(5,3,1)   select(6,3,0)\n",
    "select(4,4,1)   select(5,4,1)   select(6,4,0)\n",
    "select(4,5,0)   select(5,5,0)   select(6,5,1)\n",
    "select(4,6,1)   select(5,6,1)   select(6,6,0)\n",
    "```\n",
    "---"
   ]
  },
  {
   "cell_type": "markdown",
   "metadata": {},
   "source": [
    "# Task.\n",
    "\n",
    "Write an ASP encoding such that given an instance,\n",
    "the answer sets of the encoding and the instance\n",
    "correspond to the solutions of the problem represented by the instance."
   ]
  },
  {
   "cell_type": "markdown",
   "metadata": {},
   "source": [
    "# Framework.\n",
    "\n",
    "The directory ``asp`` contains the files that you need for the project. In the directory ``asp/instances`` you can find the instances (our example is `instance01.lp`), and in the directory ``asp/solutions`` you can find their solutions in ``json`` format. \n",
    "\n",
    "You have to submit a file named ``binairo.lp``, included as a template in the directory ``asp``, that contains the following line (and no more ``#show`` statements) so that in the output only the atoms of predicate ``select/3`` appear:\n",
    "\n",
    "``#show select/3.``\n",
    "\n",
    "You can check if your encoding solves correctly all instances by running the ``Python`` script ``test.py`` as follows:\n",
    "* ``python asp/test.py -e asp/binairo.lp -i asp/instances -s asp/solutions -t 100``\n",
    "\n",
    "In this case, the timeout for each instance is set to `100` seconds, but you can use any other value instead.\n",
    "We have tested the script with `Python` version `3.8`.\n",
    "\n",
    "**We recommend you to work locally in your computer, using your own installation of ``clingo``.**"
   ]
  },
  {
   "cell_type": "markdown",
   "metadata": {},
   "source": [
    "You can also run your encoding in the next cell. If you are using ``Binder``, remember to download to your computer the files that you modify, otherwise you will lose your changes."
   ]
  },
  {
   "cell_type": "code",
   "execution_count": null,
   "metadata": {},
   "outputs": [],
   "source": [
    "% Please insert the names and email addresses of the group members:\n",
    "%\n",
    "%\n",
    "\n",
    "cell(1..G,1..G) :- grid(G).\n",
    "\n",
    "\n",
    "\n",
    "\n",
    "#show select/3."
   ]
  },
  {
   "cell_type": "markdown",
   "metadata": {},
   "source": [
    "# Formalities.\n",
    "You should work on the solution in groups of two people. \n",
    "Different groups have to submit different solutions, in case\n",
    "of plagiarism all groups involved will fail the project. \n",
    "\n",
    "Your solution has to correctly encode all solutions for every instance. \n",
    "This is tested automatically by the script ``test.py``. \n",
    "\n",
    "We will send you further instructions about the submission process from Moodle."
   ]
  },
  {
   "cell_type": "markdown",
   "metadata": {},
   "source": [
    "# Tips:\n",
    "\n",
    "* If you are stuck you can contact us. We will do out best to answer all your questions. You can send us questions and remarks either via Moodle or by email.\n",
    "\n",
    "* Start as soon as possible to avoid running out of time. However, if you still realize that you have problems making it before the deadline, please contact us instead of copying another solution."
   ]
  }
 ],
 "metadata": {
  "kernelspec": {
   "display_name": "Python 3 (ipykernel)",
   "language": "python",
   "name": "python3"
  },
  "language_info": {
   "codemirror_mode": {
    "name": "ipython",
    "version": 3
   },
   "file_extension": ".py",
   "mimetype": "text/x-python",
   "name": "python",
   "nbconvert_exporter": "python",
   "pygments_lexer": "ipython3",
   "version": "3.13.0"
  }
 },
 "nbformat": 4,
 "nbformat_minor": 4
}
